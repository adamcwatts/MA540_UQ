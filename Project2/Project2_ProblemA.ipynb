{
 "cells": [
  {
   "cell_type": "code",
   "execution_count": 1,
   "metadata": {},
   "outputs": [],
   "source": [
    "import pandas as pd\n",
    "import numpy as np\n",
    "import matplotlib.pyplot as plt"
   ]
  },
  {
   "cell_type": "markdown",
   "metadata": {},
   "source": [
    "Spring Model:\n",
    "## $\\frac{d^2z}{dt^2} + C\\frac{dz}{dt} + Kz =0$ \n",
    "## $z(0)=2,\\ \\frac{dz}{dt}(0)=-C $\n",
    "\n",
    "Forward finite difference: $f'(x) = \\frac{f(x+h)-f(x)}{h}$"
   ]
  },
  {
   "cell_type": "code",
   "execution_count": 42,
   "metadata": {},
   "outputs": [],
   "source": [
    "def dz_dC(C, K, t):\n",
    "#     analytical solution for dz/dC  \n",
    "    return -np.exp(-C/2*t)*(t*np.cos(np.sqrt(C**2+0j - 4*K+0j) * t/2) + C*t*np.sin(np.sqrt(C**2+0j - 4*K+0j) * t/2)/np.sqrt(C**2+0j -4*K+0j))\n",
    "\n",
    "def dz_dK(C, K, t):\n",
    "#     analytical solution for dz/dK  \n",
    "    return (2*t*np.sin(t/2*np.sqrt(C**2+0j - 4*K+0j))*np.exp(-C*t/2)) / np.sqrt(C**2+0j - 4*K+0j)"
   ]
  },
  {
   "cell_type": "code",
   "execution_count": 68,
   "metadata": {},
   "outputs": [
    {
     "data": {
      "text/plain": [
       "[<matplotlib.lines.Line2D at 0x200ef2ec390>]"
      ]
     },
     "execution_count": 68,
     "metadata": {},
     "output_type": "execute_result"
    },
    {
     "data": {
      "image/png": "[encoded data removed]",
      "text/plain": [
       "<Figure size 432x288 with 1 Axes>"
      ]
     },
     "metadata": {
      "needs_background": "light"
     },
     "output_type": "display_data"
    }
   ],
   "source": [
    "t_array = np.arange(0,100 + 1,1)\n",
    "C_array = np.arange(0,100 + 1, 1)\n",
    "\n",
    "c_sens = np.real(dz_dC(C_array, 23, t_array))\n",
    "k_sens = np.real(dz_dK(50, C_array, t_array))\n",
    "\n",
    "plt.plot(t_array, k_sens)"
   ]
  }
 ],
 "metadata": {
  "kernelspec": {
   "display_name": "Python 3",
   "language": "python",
   "name": "python3"
  },
  "language_info": {
   "codemirror_mode": {
    "name": "ipython",
    "version": 3
   },
   "file_extension": ".py",
   "mimetype": "text/x-python",
   "name": "python",
   "nbconvert_exporter": "python",
   "pygments_lexer": "ipython3",
   "version": "3.7.3"
  }
 },
 "nbformat": 4,
 "nbformat_minor": 2
}
