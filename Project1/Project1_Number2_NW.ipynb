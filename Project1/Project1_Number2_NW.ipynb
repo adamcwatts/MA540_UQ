{
 "cells": [
  {
   "cell_type": "code",
   "execution_count": 60,
   "metadata": {},
   "outputs": [],
   "source": [
    "from scipy import optimize\n",
    "import numpy as np\n",
    "import matplotlib.pyplot as plt\n",
    "\n",
    "### Eigenfunctions, Eigenvalues ###\n",
    "L = 5\n",
    "\n",
    "# precompute a number of roots v, w, for efficiency\n",
    "def even_transcendental(w):\n",
    "    return L*w + np.tan(w)\n",
    "\n",
    "def odd_transcendental(v):\n",
    "    return 1 - L*v*np.tan(v)\n",
    "\n",
    "def find_roots(func, num_roots):\n",
    "    # 'adaptive' root finding\n",
    "    dp = 0.01 # inital precision\n",
    "    p0 = 0\n",
    "    roots = [ round( optimize.fsolve(func, x0 = 0)[0], 5 ) ]\n",
    "    \n",
    "    num_without_change = 0\n",
    "    curr_soln = roots[0]\n",
    "    \n",
    "    while curr_soln in roots and len(roots) < num_roots:\n",
    "        p0 += dp * (num_without_change + 1)\n",
    "        curr_soln = round( optimize.fsolve(func, x0 = p0)[0], 5 )\n",
    "        \n",
    "        if curr_soln not in roots:\n",
    "            num_without_change = 0\n",
    "            roots.append(curr_soln)\n",
    "    \n",
    "    return roots\n",
    "            \n",
    "ws = [ w for w in find_roots(even_transcendental, 7) if w > 0 ]\n",
    "vs = [ v for v in find_roots(odd_transcendental, 7) if v > 0 ]\n",
    "us = [ -1 ] # - 1 is a dummy value, to pad it so that we start at n = 1\n",
    "for i in range(len(ws)):\n",
    "    us.append(vs[i])\n",
    "    us.append(ws[i])\n",
    "    \n",
    "def eigenvalues(n):\n",
    "    return (2*L)/(1 + L**2 * us[n]**2)\n",
    "    \n",
    "def eigenfuncs(x, n):\n",
    "    u = us[n]\n",
    "    if n % 2 == 0:\n",
    "        return np.sin(u * x) / np.sqrt( 1 - np.sin(2*u)/2*u )\n",
    "    else:\n",
    "        return np.cos(u * x) / np.sqrt( 1 + np.sin(2*u)/2*u )\n",
    "    \n",
    "def alpha_bar(x):\n",
    "    return (1/8)*(x+1)**2\n"
   ]
  },
  {
   "cell_type": "code",
   "execution_count": 74,
   "metadata": {},
   "outputs": [],
   "source": [
    "lambda_1 = eigenvalues(1)\n",
    "lambda_2 = eigenvalues(2)\n",
    "#print(\"$\\lambda_1$ = \", eigenvalues(1))\n",
    "#print(\"$\\lambda_2$ = \", eigenvalues(2))"
   ]
  },
  {
   "cell_type": "code",
   "execution_count": 79,
   "metadata": {},
   "outputs": [
    {
     "data": {
      "text/plain": [
       "<matplotlib.legend.Legend at 0x7f7fe8964d10>"
      ]
     },
     "execution_count": 79,
     "metadata": {},
     "output_type": "execute_result"
    },
    {
     "data": {
      "image/png": "[encoded data removed]",
      "text/plain": [
       "<Figure size 432x288 with 1 Axes>"
      ]
     },
     "metadata": {},
     "output_type": "display_data"
    }
   ],
   "source": [
    "### Plot Eigenfunctions ###\n",
    "fig, ax = plt.subplots(ncols=1)\n",
    "\n",
    "xs = np.linspace(-1,1,1000)\n",
    "phi_1 = eigenfuncs(xs,1)\n",
    "phi_2 = eigenfuncs(xs,2)\n",
    "\n",
    "ax.plot(xs, phi_1, label = \"$\\phi_1(x)$, $\\lambda_1 = %.4f$\" % lambda_1)\n",
    "ax.plot(xs, phi_2, label = \"$\\phi_2(x)$, $\\lambda_2 = %.4f$\" % lambda_2)\n",
    "\n",
    "ax.set_xlabel(\"x\")\n",
    "ax.set_ylabel(\"$\\phi_n(x)$\")\n",
    "\n",
    "plt.legend()"
   ]
  },
  {
   "cell_type": "code",
   "execution_count": 52,
   "metadata": {},
   "outputs": [
    {
     "data": {
      "text/plain": [
       "[0.43284, 3.20394, 6.31485, 9.44595, 12.58226, 15.72068]"
      ]
     },
     "execution_count": 52,
     "metadata": {},
     "output_type": "execute_result"
    }
   ],
   "source": [
    "def karhunen_loeve()"
   ]
  },
  {
   "cell_type": "code",
   "execution_count": null,
   "metadata": {},
   "outputs": [],
   "source": []
  }
 ],
 "metadata": {
  "kernelspec": {
   "display_name": "Python 3",
   "language": "python",
   "name": "python3"
  },
  "language_info": {
   "codemirror_mode": {
    "name": "ipython",
    "version": 3
   },
   "file_extension": ".py",
   "mimetype": "text/x-python",
   "name": "python",
   "nbconvert_exporter": "python",
   "pygments_lexer": "ipython3",
   "version": "3.7.4"
  }
 },
 "nbformat": 4,
 "nbformat_minor": 2
}
