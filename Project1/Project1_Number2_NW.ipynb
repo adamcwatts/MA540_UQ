{
 "cells": [
  {
   "cell_type": "code",
   "execution_count": 10,
   "metadata": {},
   "outputs": [],
   "source": [
    "from scipy import optimize\n",
    "import numpy as np\n",
    "\n",
    "### Eigenfunctions, Eigenvalues ###\n",
    "L = 5\n",
    "\n",
    "# precompute a number of roots v, w, for efficiency\n",
    "def even_transcendental(w):\n",
    "    return L*w + np.tan(w)\n",
    "\n",
    "def odd_transcendental(v):\n",
    "    return 1 - L*v*np.tan(v)\n",
    "\n",
    "ws = scipy.optimize.minimize(even_transcendental, x0=0.1)\n",
    "vs = scipy.optimize.minimize(odd_transcendental, x0=0.1)\n",
    "\n",
    "#for x in np.linspace(0.01, 10, 100):\n",
    "#    ws.append( scipy.optimize.minimize(even_transcendental, x0 = ws[-1]) )\n",
    "\n",
    "def eigenvalues(n):\n",
    "    u = 0\n",
    "    if n % 2 == 0:\n",
    "        u = ws[2*n]\n",
    "    else:\n",
    "        u = vs[2*n-1]\n",
    "        \n",
    "    return (2*L)/(1 + L**2 * u**2)\n",
    "    \n",
    "def eigenfuncs(n):\n",
    "    \"\"\" asd \"\"\"\n",
    "def alpha_bar(x):\n",
    "    return (1/8)*(x+1)**2\n"
   ]
  },
  {
   "cell_type": "code",
   "execution_count": 11,
   "metadata": {},
   "outputs": [
    {
     "data": {
      "text/plain": [
       "array([-2.70214574e+08])"
      ]
     },
     "execution_count": 11,
     "metadata": {},
     "output_type": "execute_result"
    }
   ],
   "source": [
    "ws.x"
   ]
  },
  {
   "cell_type": "code",
   "execution_count": null,
   "metadata": {},
   "outputs": [],
   "source": []
  }
 ],
 "metadata": {
  "kernelspec": {
   "display_name": "Python 3",
   "language": "python",
   "name": "python3"
  },
  "language_info": {
   "codemirror_mode": {
    "name": "ipython",
    "version": 3
   },
   "file_extension": ".py",
   "mimetype": "text/x-python",
   "name": "python",
   "nbconvert_exporter": "python",
   "pygments_lexer": "ipython3",
   "version": "3.7.4"
  }
 },
 "nbformat": 4,
 "nbformat_minor": 2
}
